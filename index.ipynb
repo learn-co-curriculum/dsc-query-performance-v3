{
 "cells": [
  {
   "cell_type": "markdown",
   "metadata": {},
   "source": [
    "# Query Performance\n",
    "\n",
    "## Introducton\n",
    "\n",
    "In this lesson, we'll go over some ideas on how to improve query performance.\n",
    "\n",
    "## Objectives\n",
    "- Learn theory behind query performance\n",
    "- Learn how to reduce table size\n",
    "- How to use `EXPLAIN` keyword"
   ]
  },
  {
   "cell_type": "markdown",
   "metadata": {},
   "source": [
    "### What is query performance tuning?\n",
    "\n",
    "SQL tuning is the process of improving queries to accelerate server performance in the end. The purpose of it is to reduce the amount of time it takes a user to receive a query result after executing a query, and to reduce the amount of resources used to execute a query.\n",
    "\n",
    "### What goes behind a query?\n",
    "\n",
    "A database is a software and its limited to the hardware that it lives in. Because this is something we can't change, what we can do is make the query to run faster is to reduce the number of computation. To do this, we'll need to understand what goes behind this computation.\n",
    "\n",
    "- Table size: The number of rows in the table matters. If one or more tables involved in the query has more tha millions or more rows, the performance will be affected.\n",
    "- Joins: If the tables are joined, this can also affect performance.\n",
    "- Aggregations: If there are aggregating functions involved over millions of rows, this will also affect performance.\n",
    "\n",
    "Query runtime can also be impacted by others that you cannot control. Remember, the database can and will be used by multiple peers, so having multiple peers executing resource-intensive queries, or systems working on ETL (extract-transform-load) jobs can also slow down your query runtime. These are something we can't control, so let's focus on things we can control."
   ]
  },
  {
   "cell_type": "markdown",
   "metadata": {},
   "source": [
    "### Reducing table size\n",
    "\n",
    "Filtering data on some columns would be a good idea. Something that we can easily do is filtering on timestamps if there is one, like below:\n",
    "\n",
    "```\n",
    "SELECT *\n",
    "  FROM sample_event_table\n",
    " WHERE event_date >= '2014-03-01'\n",
    "   AND event_date <  '2014-04-01'\n",
    "```\n",
    "\n",
    "This will reduce the amount of data you're querying. Keep in mind to do exploratory data analysis on a sample set of data, then execute the full query once your theories are set in stone."
   ]
  },
  {
   "cell_type": "markdown",
   "metadata": {},
   "source": [
    "### Reducing complications in joins\n",
    "\n",
    "In some sense, this is the extension of the previous discussion. You can reduce the table size then join, which will ultimately reduce the size. Another way to further improve is to join on using foreign keys in case of parent and children relationships."
   ]
  },
  {
   "cell_type": "markdown",
   "metadata": {},
   "source": [
    "### Explain Keyword\n",
    "\n",
    "To see the query performance, you can use the `EXPLAIN` keyword to see the query plan in text. Let's go to [db-fiddle](https://www.db-fiddle.com/) and copy-paste the following DDL on the left pane. For this exercise, use `Postgres` on the top left instead of `sqlite`.\n",
    "\n",
    "```\n",
    "CREATE TABLE ANNUAL_SALES (\n",
    "  id INTEGER PRIMARY KEY,\n",
    "  year INTEGER,\n",
    "  sales INTEGER\n",
    ");\n",
    "\n",
    "INSERT INTO ANNUAL_SALES VALUES (1, 2016, 87000);\n",
    "INSERT INTO ANNUAL_SALES VALUES (2, 2017, 65000);\n",
    "INSERT INTO ANNUAL_SALES VALUES (3, 2018, 68000);\n",
    "INSERT INTO ANNUAL_SALES VALUES (4, 2019, 79000);\n",
    "INSERT INTO ANNUAL_SALES VALUES (5, 2020, 83000);\n",
    "INSERT INTO ANNUAL_SALES VALUES (6, 2021, 92000);\n",
    "INSERT INTO ANNUAL_SALES VALUES (7, 2022, 98000);\n",
    "```\n",
    "\n",
    "And copy this into the right pane.\n",
    "```\n",
    "EXPLAIN\n",
    "SELECT \n",
    "   year,\n",
    "   sales AS current_total_sale,\n",
    "   LAG(sales) OVER(ORDER BY year) AS previous_total_sale,\n",
    "   sales - LAG(sales) OVER(ORDER BY year) AS difference\n",
    "FROM ANNUAL_SALES;\n",
    "```\n",
    "\n",
    "If you execute the query, you'll see this result instead of the usual result set.\n",
    "![result.png](./images/result.png)"
   ]
  },
  {
   "cell_type": "markdown",
   "metadata": {},
   "source": [
    "If you see above, the entry at the bottom is the first computation the query executed. The scan on the table first by the sort key, year, then as we can see, it applies the window aggregate function, which is `LAG()`. You can use the `EXPLAIN` keyword to further study the query computation and see where you can possibly reduce computation. More information is can be found in [postgres official documentation](https://www.postgresql.org/docs/9.0/sql-explain.html)."
   ]
  },
  {
   "cell_type": "markdown",
   "metadata": {},
   "source": [
    "### Summary\n",
    "\n",
    "We looked at how we can use the `EXPLAIN` keyword to study to optimize performance, as well as few other methods like reducing table size and join on using foreign keys."
   ]
  }
 ],
 "metadata": {
  "kernelspec": {
   "display_name": "Python 3",
   "language": "python",
   "name": "python3"
  },
  "language_info": {
   "codemirror_mode": {
    "name": "ipython",
    "version": 3
   },
   "file_extension": ".py",
   "mimetype": "text/x-python",
   "name": "python",
   "nbconvert_exporter": "python",
   "pygments_lexer": "ipython3",
   "version": "3.8.5"
  }
 },
 "nbformat": 4,
 "nbformat_minor": 4
}
